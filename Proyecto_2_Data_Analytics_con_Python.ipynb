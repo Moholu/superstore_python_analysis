{
  "cells": [
    {
      "cell_type": "markdown",
      "metadata": {
        "id": "pOhibryEonSI"
      },
      "source": [
        "\n",
        "Proceso de generación de valor por extración de datos\n"
      ]
    },
    {
      "cell_type": "code",
      "execution_count": 3,
      "metadata": {
        "id": "zltk5pKsouYA"
      },
      "outputs": [],
      "source": [
        "#Importando librerias\n",
        "import pandas as pd\n",
        "import numpy as np\n",
        "import seaborn as sns\n",
        "import matplotlib.pyplot as plt\n",
        "from google.colab import drive\n",
        "import os"
      ]
    },
    {
      "cell_type": "code",
      "execution_count": 4,
      "metadata": {
        "id": "ZXidNVr-V1Fq"
      },
      "outputs": [],
      "source": [
        "%matplotlib inline"
      ]
    },
    {
      "cell_type": "code",
      "execution_count": 5,
      "metadata": {
        "colab": {
          "base_uri": "https://localhost:8080/"
        },
        "id": "9jiDU9GFV5R4",
        "outputId": "1cceb932-2ed3-4692-ff5b-2a63656f0047"
      },
      "outputs": [
        {
          "name": "stdout",
          "output_type": "stream",
          "text": [
            "Mounted at /content/drive\n"
          ]
        }
      ],
      "source": [
        "drive.mount('/content/drive')"
      ]
    },
    {
      "cell_type": "markdown",
      "metadata": {
        "id": "Mjz4Rx2pv2vd"
      },
      "source": [
        "# Importar Datos e Identificar variables a limpiar"
      ]
    },
    {
      "cell_type": "code",
      "execution_count": 6,
      "metadata": {
        "id": "XqtluUm1vxg_"
      },
      "outputs": [],
      "source": [
        "#Funcion para concatenar todos los CSV\n",
        "def concat_csv(folder_path, encoding='unicode_escape'):\n",
        "     #Lista de los archivos CSV\n",
        "    csv_files = [f for f in os.listdir(folder_path) if f.endswith('.csv')]\n",
        "\n",
        "    #Initializa nuevo dataframe donde guardarlos todos\n",
        "    combined_df = pd.DataFrame()\n",
        "\n",
        "    #Concatena los archivos CSV\n",
        "    for csv_file in csv_files:\n",
        "        file_path = os.path.join(folder_path, csv_file)\n",
        "        df = pd.read_csv(file_path, encoding=encoding)\n",
        "        combined_df = pd.concat([combined_df, df], ignore_index=True)\n",
        "\n",
        "    return combined_df\n",
        "\n",
        "#Usando la funcion para crear el dataframe\n",
        "folder_path = '/content/drive/MyDrive/superstore'\n",
        "superstore = concat_csv(folder_path)"
      ]
    },
    {
      "cell_type": "code",
      "execution_count": 7,
      "metadata": {
        "colab": {
          "base_uri": "https://localhost:8080/",
          "height": 585
        },
        "id": "PMjGYklvbOL8",
        "outputId": "4b1c02ac-053c-4c05-fd07-059bc28746dc"
      },
      "outputs": [
        {
          "data": {
            "text/html": [
              "\n",
              "  <div id=\"df-2c8047e1-4fed-46af-badb-61c9eef47190\" class=\"colab-df-container\">\n",
              "    <div>\n",
              "<style scoped>\n",
              "    .dataframe tbody tr th:only-of-type {\n",
              "        vertical-align: middle;\n",
              "    }\n",
              "\n",
              "    .dataframe tbody tr th {\n",
              "        vertical-align: top;\n",
              "    }\n",
              "\n",
              "    .dataframe thead th {\n",
              "        text-align: right;\n",
              "    }\n",
              "</style>\n",
              "<table border=\"1\" class=\"dataframe\">\n",
              "  <thead>\n",
              "    <tr style=\"text-align: right;\">\n",
              "      <th></th>\n",
              "      <th>Row ID</th>\n",
              "      <th>Order ID</th>\n",
              "      <th>Order Date</th>\n",
              "      <th>Ship Date</th>\n",
              "      <th>Ship Mode</th>\n",
              "      <th>Customer ID</th>\n",
              "      <th>Customer Name</th>\n",
              "      <th>Segment</th>\n",
              "      <th>City</th>\n",
              "      <th>State</th>\n",
              "      <th>...</th>\n",
              "      <th>Category</th>\n",
              "      <th>Sub-Category</th>\n",
              "      <th>Product Name</th>\n",
              "      <th>Sales</th>\n",
              "      <th>Quantity</th>\n",
              "      <th>Discount</th>\n",
              "      <th>Profit</th>\n",
              "      <th>Shipping Cost</th>\n",
              "      <th>Order Priority</th>\n",
              "      <th>Unnamed: 0</th>\n",
              "    </tr>\n",
              "  </thead>\n",
              "  <tbody>\n",
              "    <tr>\n",
              "      <th>0</th>\n",
              "      <td>7694</td>\n",
              "      <td>MX-2011-157049</td>\n",
              "      <td>13-06-2011</td>\n",
              "      <td>13-06-2011</td>\n",
              "      <td>Same Day</td>\n",
              "      <td>BD-11560</td>\n",
              "      <td>Brendan Dodson</td>\n",
              "      <td>Home Office</td>\n",
              "      <td>Cuajimalpa</td>\n",
              "      <td>Distrito Federal</td>\n",
              "      <td>...</td>\n",
              "      <td>Technology</td>\n",
              "      <td>Copiers</td>\n",
              "      <td>Canon Fax Machine, High-Speed</td>\n",
              "      <td>631.91364</td>\n",
              "      <td>3</td>\n",
              "      <td>0.002</td>\n",
              "      <td>87.35364</td>\n",
              "      <td>78.28</td>\n",
              "      <td>Critical</td>\n",
              "      <td>NaN</td>\n",
              "    </tr>\n",
              "    <tr>\n",
              "      <th>1</th>\n",
              "      <td>15772</td>\n",
              "      <td>ES-2011-1276768</td>\n",
              "      <td>13-06-2011</td>\n",
              "      <td>18-06-2011</td>\n",
              "      <td>Standard Class</td>\n",
              "      <td>JO-15145</td>\n",
              "      <td>Jack O'Briant</td>\n",
              "      <td>Corporate</td>\n",
              "      <td>Thonon-les-Bains</td>\n",
              "      <td>Rhône-Alpes</td>\n",
              "      <td>...</td>\n",
              "      <td>Furniture</td>\n",
              "      <td>Bookcases</td>\n",
              "      <td>Dania Stackable Bookrack, Mobile</td>\n",
              "      <td>437.72400</td>\n",
              "      <td>4</td>\n",
              "      <td>0.100</td>\n",
              "      <td>165.32400</td>\n",
              "      <td>68.34</td>\n",
              "      <td>High</td>\n",
              "      <td>NaN</td>\n",
              "    </tr>\n",
              "    <tr>\n",
              "      <th>2</th>\n",
              "      <td>10075</td>\n",
              "      <td>US-2011-102288</td>\n",
              "      <td>13-06-2011</td>\n",
              "      <td>17-06-2011</td>\n",
              "      <td>Standard Class</td>\n",
              "      <td>KT-16465</td>\n",
              "      <td>Kean Takahito</td>\n",
              "      <td>Consumer</td>\n",
              "      <td>Presidente Dutra</td>\n",
              "      <td>Maranhão</td>\n",
              "      <td>...</td>\n",
              "      <td>Furniture</td>\n",
              "      <td>Chairs</td>\n",
              "      <td>Office Star Bag Chairs, Set of Two</td>\n",
              "      <td>215.37600</td>\n",
              "      <td>14</td>\n",
              "      <td>0.600</td>\n",
              "      <td>-231.78400</td>\n",
              "      <td>39.85</td>\n",
              "      <td>High</td>\n",
              "      <td>NaN</td>\n",
              "    </tr>\n",
              "    <tr>\n",
              "      <th>3</th>\n",
              "      <td>15771</td>\n",
              "      <td>ES-2011-1276768</td>\n",
              "      <td>13-06-2011</td>\n",
              "      <td>18-06-2011</td>\n",
              "      <td>Standard Class</td>\n",
              "      <td>JO-15145</td>\n",
              "      <td>Jack O'Briant</td>\n",
              "      <td>Corporate</td>\n",
              "      <td>Thonon-les-Bains</td>\n",
              "      <td>Rhône-Alpes</td>\n",
              "      <td>...</td>\n",
              "      <td>Furniture</td>\n",
              "      <td>Bookcases</td>\n",
              "      <td>Sauder Corner Shelving, Metal</td>\n",
              "      <td>264.16800</td>\n",
              "      <td>2</td>\n",
              "      <td>0.100</td>\n",
              "      <td>55.72800</td>\n",
              "      <td>30.14</td>\n",
              "      <td>High</td>\n",
              "      <td>NaN</td>\n",
              "    </tr>\n",
              "    <tr>\n",
              "      <th>4</th>\n",
              "      <td>27155</td>\n",
              "      <td>IN-2011-51390</td>\n",
              "      <td>13-06-2011</td>\n",
              "      <td>17-06-2011</td>\n",
              "      <td>Standard Class</td>\n",
              "      <td>RB-19705</td>\n",
              "      <td>Roger Barcio</td>\n",
              "      <td>Home Office</td>\n",
              "      <td>Palembang</td>\n",
              "      <td>Sumatera Selatan</td>\n",
              "      <td>...</td>\n",
              "      <td>Furniture</td>\n",
              "      <td>Chairs</td>\n",
              "      <td>Novimex Executive Leather Armchair, Adjustable</td>\n",
              "      <td>332.52960</td>\n",
              "      <td>1</td>\n",
              "      <td>0.270</td>\n",
              "      <td>18.21960</td>\n",
              "      <td>30.14</td>\n",
              "      <td>Medium</td>\n",
              "      <td>NaN</td>\n",
              "    </tr>\n",
              "  </tbody>\n",
              "</table>\n",
              "<p>5 rows × 25 columns</p>\n",
              "</div>\n",
              "    <div class=\"colab-df-buttons\">\n",
              "\n",
              "  <div class=\"colab-df-container\">\n",
              "    <button class=\"colab-df-convert\" onclick=\"convertToInteractive('df-2c8047e1-4fed-46af-badb-61c9eef47190')\"\n",
              "            title=\"Convert this dataframe to an interactive table.\"\n",
              "            style=\"display:none;\">\n",
              "\n",
              "  <svg xmlns=\"http://www.w3.org/2000/svg\" height=\"24px\" viewBox=\"0 -960 960 960\">\n",
              "    <path d=\"M120-120v-720h720v720H120Zm60-500h600v-160H180v160Zm220 220h160v-160H400v160Zm0 220h160v-160H400v160ZM180-400h160v-160H180v160Zm440 0h160v-160H620v160ZM180-180h160v-160H180v160Zm440 0h160v-160H620v160Z\"/>\n",
              "  </svg>\n",
              "    </button>\n",
              "\n",
              "  <style>\n",
              "    .colab-df-container {\n",
              "      display:flex;\n",
              "      gap: 12px;\n",
              "    }\n",
              "\n",
              "    .colab-df-convert {\n",
              "      background-color: #E8F0FE;\n",
              "      border: none;\n",
              "      border-radius: 50%;\n",
              "      cursor: pointer;\n",
              "      display: none;\n",
              "      fill: #1967D2;\n",
              "      height: 32px;\n",
              "      padding: 0 0 0 0;\n",
              "      width: 32px;\n",
              "    }\n",
              "\n",
              "    .colab-df-convert:hover {\n",
              "      background-color: #E2EBFA;\n",
              "      box-shadow: 0px 1px 2px rgba(60, 64, 67, 0.3), 0px 1px 3px 1px rgba(60, 64, 67, 0.15);\n",
              "      fill: #174EA6;\n",
              "    }\n",
              "\n",
              "    .colab-df-buttons div {\n",
              "      margin-bottom: 4px;\n",
              "    }\n",
              "\n",
              "    [theme=dark] .colab-df-convert {\n",
              "      background-color: #3B4455;\n",
              "      fill: #D2E3FC;\n",
              "    }\n",
              "\n",
              "    [theme=dark] .colab-df-convert:hover {\n",
              "      background-color: #434B5C;\n",
              "      box-shadow: 0px 1px 3px 1px rgba(0, 0, 0, 0.15);\n",
              "      filter: drop-shadow(0px 1px 2px rgba(0, 0, 0, 0.3));\n",
              "      fill: #FFFFFF;\n",
              "    }\n",
              "  </style>\n",
              "\n",
              "    <script>\n",
              "      const buttonEl =\n",
              "        document.querySelector('#df-2c8047e1-4fed-46af-badb-61c9eef47190 button.colab-df-convert');\n",
              "      buttonEl.style.display =\n",
              "        google.colab.kernel.accessAllowed ? 'block' : 'none';\n",
              "\n",
              "      async function convertToInteractive(key) {\n",
              "        const element = document.querySelector('#df-2c8047e1-4fed-46af-badb-61c9eef47190');\n",
              "        const dataTable =\n",
              "          await google.colab.kernel.invokeFunction('convertToInteractive',\n",
              "                                                    [key], {});\n",
              "        if (!dataTable) return;\n",
              "\n",
              "        const docLinkHtml = 'Like what you see? Visit the ' +\n",
              "          '<a target=\"_blank\" href=https://colab.research.google.com/notebooks/data_table.ipynb>data table notebook</a>'\n",
              "          + ' to learn more about interactive tables.';\n",
              "        element.innerHTML = '';\n",
              "        dataTable['output_type'] = 'display_data';\n",
              "        await google.colab.output.renderOutput(dataTable, element);\n",
              "        const docLink = document.createElement('div');\n",
              "        docLink.innerHTML = docLinkHtml;\n",
              "        element.appendChild(docLink);\n",
              "      }\n",
              "    </script>\n",
              "  </div>\n",
              "\n",
              "\n",
              "<div id=\"df-37cab41c-bae1-45d4-be8c-75592dae3eae\">\n",
              "  <button class=\"colab-df-quickchart\" onclick=\"quickchart('df-37cab41c-bae1-45d4-be8c-75592dae3eae')\"\n",
              "            title=\"Suggest charts.\"\n",
              "            style=\"display:none;\">\n",
              "\n",
              "<svg xmlns=\"http://www.w3.org/2000/svg\" height=\"24px\"viewBox=\"0 0 24 24\"\n",
              "     width=\"24px\">\n",
              "    <g>\n",
              "        <path d=\"M19 3H5c-1.1 0-2 .9-2 2v14c0 1.1.9 2 2 2h14c1.1 0 2-.9 2-2V5c0-1.1-.9-2-2-2zM9 17H7v-7h2v7zm4 0h-2V7h2v10zm4 0h-2v-4h2v4z\"/>\n",
              "    </g>\n",
              "</svg>\n",
              "  </button>\n",
              "\n",
              "<style>\n",
              "  .colab-df-quickchart {\n",
              "      --bg-color: #E8F0FE;\n",
              "      --fill-color: #1967D2;\n",
              "      --hover-bg-color: #E2EBFA;\n",
              "      --hover-fill-color: #174EA6;\n",
              "      --disabled-fill-color: #AAA;\n",
              "      --disabled-bg-color: #DDD;\n",
              "  }\n",
              "\n",
              "  [theme=dark] .colab-df-quickchart {\n",
              "      --bg-color: #3B4455;\n",
              "      --fill-color: #D2E3FC;\n",
              "      --hover-bg-color: #434B5C;\n",
              "      --hover-fill-color: #FFFFFF;\n",
              "      --disabled-bg-color: #3B4455;\n",
              "      --disabled-fill-color: #666;\n",
              "  }\n",
              "\n",
              "  .colab-df-quickchart {\n",
              "    background-color: var(--bg-color);\n",
              "    border: none;\n",
              "    border-radius: 50%;\n",
              "    cursor: pointer;\n",
              "    display: none;\n",
              "    fill: var(--fill-color);\n",
              "    height: 32px;\n",
              "    padding: 0;\n",
              "    width: 32px;\n",
              "  }\n",
              "\n",
              "  .colab-df-quickchart:hover {\n",
              "    background-color: var(--hover-bg-color);\n",
              "    box-shadow: 0 1px 2px rgba(60, 64, 67, 0.3), 0 1px 3px 1px rgba(60, 64, 67, 0.15);\n",
              "    fill: var(--button-hover-fill-color);\n",
              "  }\n",
              "\n",
              "  .colab-df-quickchart-complete:disabled,\n",
              "  .colab-df-quickchart-complete:disabled:hover {\n",
              "    background-color: var(--disabled-bg-color);\n",
              "    fill: var(--disabled-fill-color);\n",
              "    box-shadow: none;\n",
              "  }\n",
              "\n",
              "  .colab-df-spinner {\n",
              "    border: 2px solid var(--fill-color);\n",
              "    border-color: transparent;\n",
              "    border-bottom-color: var(--fill-color);\n",
              "    animation:\n",
              "      spin 1s steps(1) infinite;\n",
              "  }\n",
              "\n",
              "  @keyframes spin {\n",
              "    0% {\n",
              "      border-color: transparent;\n",
              "      border-bottom-color: var(--fill-color);\n",
              "      border-left-color: var(--fill-color);\n",
              "    }\n",
              "    20% {\n",
              "      border-color: transparent;\n",
              "      border-left-color: var(--fill-color);\n",
              "      border-top-color: var(--fill-color);\n",
              "    }\n",
              "    30% {\n",
              "      border-color: transparent;\n",
              "      border-left-color: var(--fill-color);\n",
              "      border-top-color: var(--fill-color);\n",
              "      border-right-color: var(--fill-color);\n",
              "    }\n",
              "    40% {\n",
              "      border-color: transparent;\n",
              "      border-right-color: var(--fill-color);\n",
              "      border-top-color: var(--fill-color);\n",
              "    }\n",
              "    60% {\n",
              "      border-color: transparent;\n",
              "      border-right-color: var(--fill-color);\n",
              "    }\n",
              "    80% {\n",
              "      border-color: transparent;\n",
              "      border-right-color: var(--fill-color);\n",
              "      border-bottom-color: var(--fill-color);\n",
              "    }\n",
              "    90% {\n",
              "      border-color: transparent;\n",
              "      border-bottom-color: var(--fill-color);\n",
              "    }\n",
              "  }\n",
              "</style>\n",
              "\n",
              "  <script>\n",
              "    async function quickchart(key) {\n",
              "      const quickchartButtonEl =\n",
              "        document.querySelector('#' + key + ' button');\n",
              "      quickchartButtonEl.disabled = true;  // To prevent multiple clicks.\n",
              "      quickchartButtonEl.classList.add('colab-df-spinner');\n",
              "      try {\n",
              "        const charts = await google.colab.kernel.invokeFunction(\n",
              "            'suggestCharts', [key], {});\n",
              "      } catch (error) {\n",
              "        console.error('Error during call to suggestCharts:', error);\n",
              "      }\n",
              "      quickchartButtonEl.classList.remove('colab-df-spinner');\n",
              "      quickchartButtonEl.classList.add('colab-df-quickchart-complete');\n",
              "    }\n",
              "    (() => {\n",
              "      let quickchartButtonEl =\n",
              "        document.querySelector('#df-37cab41c-bae1-45d4-be8c-75592dae3eae button');\n",
              "      quickchartButtonEl.style.display =\n",
              "        google.colab.kernel.accessAllowed ? 'block' : 'none';\n",
              "    })();\n",
              "  </script>\n",
              "</div>\n",
              "    </div>\n",
              "  </div>\n"
            ],
            "text/plain": [
              "   Row ID         Order ID  Order Date   Ship Date       Ship Mode  \\\n",
              "0    7694   MX-2011-157049  13-06-2011  13-06-2011        Same Day   \n",
              "1   15772  ES-2011-1276768  13-06-2011  18-06-2011  Standard Class   \n",
              "2   10075   US-2011-102288  13-06-2011  17-06-2011  Standard Class   \n",
              "3   15771  ES-2011-1276768  13-06-2011  18-06-2011  Standard Class   \n",
              "4   27155    IN-2011-51390  13-06-2011  17-06-2011  Standard Class   \n",
              "\n",
              "  Customer ID   Customer Name      Segment              City  \\\n",
              "0    BD-11560  Brendan Dodson  Home Office        Cuajimalpa   \n",
              "1    JO-15145   Jack O'Briant    Corporate  Thonon-les-Bains   \n",
              "2    KT-16465   Kean Takahito     Consumer  Presidente Dutra   \n",
              "3    JO-15145   Jack O'Briant    Corporate  Thonon-les-Bains   \n",
              "4    RB-19705    Roger Barcio  Home Office         Palembang   \n",
              "\n",
              "              State  ...    Category  Sub-Category  \\\n",
              "0  Distrito Federal  ...  Technology       Copiers   \n",
              "1       Rhône-Alpes  ...   Furniture     Bookcases   \n",
              "2          Maranhão  ...   Furniture        Chairs   \n",
              "3       Rhône-Alpes  ...   Furniture     Bookcases   \n",
              "4  Sumatera Selatan  ...   Furniture        Chairs   \n",
              "\n",
              "                                     Product Name      Sales Quantity  \\\n",
              "0                   Canon Fax Machine, High-Speed  631.91364        3   \n",
              "1                Dania Stackable Bookrack, Mobile  437.72400        4   \n",
              "2              Office Star Bag Chairs, Set of Two  215.37600       14   \n",
              "3                   Sauder Corner Shelving, Metal  264.16800        2   \n",
              "4  Novimex Executive Leather Armchair, Adjustable  332.52960        1   \n",
              "\n",
              "  Discount     Profit Shipping Cost  Order Priority  Unnamed: 0  \n",
              "0    0.002   87.35364         78.28        Critical         NaN  \n",
              "1    0.100  165.32400         68.34            High         NaN  \n",
              "2    0.600 -231.78400         39.85            High         NaN  \n",
              "3    0.100   55.72800         30.14            High         NaN  \n",
              "4    0.270   18.21960         30.14          Medium         NaN  \n",
              "\n",
              "[5 rows x 25 columns]"
            ]
          },
          "execution_count": 7,
          "metadata": {},
          "output_type": "execute_result"
        }
      ],
      "source": [
        "#Vista inicial del nuevo superstore\n",
        "superstore.head()"
      ]
    },
    {
      "cell_type": "code",
      "execution_count": 8,
      "metadata": {
        "colab": {
          "base_uri": "https://localhost:8080/"
        },
        "id": "9Vfi-WuvZr0T",
        "outputId": "3fbcdf59-4675-486a-d26a-b1a74aa7b4ce"
      },
      "outputs": [
        {
          "name": "stdout",
          "output_type": "stream",
          "text": [
            "<class 'pandas.core.frame.DataFrame'>\n",
            "RangeIndex: 112840 entries, 0 to 112839\n",
            "Data columns (total 25 columns):\n",
            " #   Column          Non-Null Count   Dtype  \n",
            "---  ------          --------------   -----  \n",
            " 0   Row ID          112840 non-null  int64  \n",
            " 1   Order ID        112840 non-null  object \n",
            " 2   Order Date      112840 non-null  object \n",
            " 3   Ship Date       112840 non-null  object \n",
            " 4   Ship Mode       112840 non-null  object \n",
            " 5   Customer ID     112840 non-null  object \n",
            " 6   Customer Name   112840 non-null  object \n",
            " 7   Segment         112840 non-null  object \n",
            " 8   City            112840 non-null  object \n",
            " 9   State           112840 non-null  object \n",
            " 10  Country         112840 non-null  object \n",
            " 11  Postal Code     63189 non-null   float64\n",
            " 12  Market          112840 non-null  object \n",
            " 13  Region          112840 non-null  object \n",
            " 14  Product ID      112840 non-null  object \n",
            " 15  Category        112840 non-null  object \n",
            " 16  Sub-Category    112840 non-null  object \n",
            " 17  Product Name    112840 non-null  object \n",
            " 18  Sales           112840 non-null  float64\n",
            " 19  Quantity        112840 non-null  int64  \n",
            " 20  Discount        112840 non-null  float64\n",
            " 21  Profit          112840 non-null  float64\n",
            " 22  Shipping Cost   112840 non-null  float64\n",
            " 23  Order Priority  112840 non-null  object \n",
            " 24  Unnamed: 0      51290 non-null   float64\n",
            "dtypes: float64(6), int64(2), object(17)\n",
            "memory usage: 21.5+ MB\n"
          ]
        }
      ],
      "source": [
        "#informacion general\n",
        "superstore.info()"
      ]
    },
    {
      "cell_type": "code",
      "execution_count": 9,
      "metadata": {
        "colab": {
          "base_uri": "https://localhost:8080/"
        },
        "id": "AC9xTuX7aNf8",
        "outputId": "77628382-1c24-4602-8529-3e5cbbd1a15a"
      },
      "outputs": [
        {
          "data": {
            "text/plain": [
              "Row ID                0\n",
              "Order ID              0\n",
              "Order Date            0\n",
              "Ship Date             0\n",
              "Ship Mode             0\n",
              "Customer ID           0\n",
              "Customer Name         0\n",
              "Segment               0\n",
              "City                  0\n",
              "State                 0\n",
              "Country               0\n",
              "Postal Code       49651\n",
              "Market                0\n",
              "Region                0\n",
              "Product ID            0\n",
              "Category              0\n",
              "Sub-Category          0\n",
              "Product Name          0\n",
              "Sales                 0\n",
              "Quantity              0\n",
              "Discount              0\n",
              "Profit                0\n",
              "Shipping Cost         0\n",
              "Order Priority        0\n",
              "Unnamed: 0        61550\n",
              "dtype: int64"
            ]
          },
          "execution_count": 9,
          "metadata": {},
          "output_type": "execute_result"
        }
      ],
      "source": [
        "#Buscando columnas con valores vacios\n",
        "superstore.isnull().sum()"
      ]
    },
    {
      "cell_type": "markdown",
      "metadata": {
        "id": "6Eys7fU3xsKQ"
      },
      "source": [
        "# Limpieza de Datos"
      ]
    },
    {
      "cell_type": "code",
      "execution_count": 10,
      "metadata": {
        "id": "DAJvKLerxwbC"
      },
      "outputs": [],
      "source": [
        "#Llenando valores vacios para la columna Postal code\n",
        "default_postal_code = '00000.0'\n",
        "superstore['Postal Code'].fillna(default_postal_code, inplace=True)"
      ]
    },
    {
      "cell_type": "code",
      "execution_count": 11,
      "metadata": {
        "colab": {
          "base_uri": "https://localhost:8080/"
        },
        "id": "A1d-0gYIcuSg",
        "outputId": "ad28ae61-e601-4542-b4f4-65d843cec39f"
      },
      "outputs": [
        {
          "data": {
            "text/plain": [
              "Row ID                0\n",
              "Order ID              0\n",
              "Order Date            0\n",
              "Ship Date             0\n",
              "Ship Mode             0\n",
              "Customer ID           0\n",
              "Customer Name         0\n",
              "Segment               0\n",
              "City                  0\n",
              "State                 0\n",
              "Country               0\n",
              "Postal Code           0\n",
              "Market                0\n",
              "Region                0\n",
              "Product ID            0\n",
              "Category              0\n",
              "Sub-Category          0\n",
              "Product Name          0\n",
              "Sales                 0\n",
              "Quantity              0\n",
              "Discount              0\n",
              "Profit                0\n",
              "Shipping Cost         0\n",
              "Order Priority        0\n",
              "Unnamed: 0        61550\n",
              "dtype: int64"
            ]
          },
          "execution_count": 11,
          "metadata": {},
          "output_type": "execute_result"
        }
      ],
      "source": [
        "superstore.isna().sum()"
      ]
    },
    {
      "cell_type": "code",
      "execution_count": 12,
      "metadata": {
        "colab": {
          "base_uri": "https://localhost:8080/"
        },
        "id": "e1erbSIWenRh",
        "outputId": "bfdf4989-1c04-4199-f28e-15c9a575e541"
      },
      "outputs": [
        {
          "data": {
            "text/plain": [
              "51290"
            ]
          },
          "execution_count": 12,
          "metadata": {},
          "output_type": "execute_result"
        }
      ],
      "source": [
        "#Buscando duplicados en la columna 'Row ID'\n",
        "superstore['Row ID'].nunique()"
      ]
    },
    {
      "cell_type": "code",
      "execution_count": 13,
      "metadata": {
        "id": "B39MIvO1fTcy"
      },
      "outputs": [],
      "source": [
        "#Removiendo filas duplicadas\n",
        "superstore.drop_duplicates(subset='Row ID', keep='first', inplace=True)"
      ]
    },
    {
      "cell_type": "code",
      "execution_count": 14,
      "metadata": {
        "colab": {
          "base_uri": "https://localhost:8080/"
        },
        "id": "ehXj6nWfjFnC",
        "outputId": "868612df-b6da-4683-9bef-011b7ef26a7c"
      },
      "outputs": [
        {
          "name": "stderr",
          "output_type": "stream",
          "text": [
            "<ipython-input-14-5069a9985530>:9: UserWarning: Parsing dates in DD/MM/YYYY format when dayfirst=False (the default) was specified. This may lead to inconsistently parsed dates! Specify a format to ensure consistent parsing.\n",
            "  superstore['Order Date'] = pd.to_datetime(superstore['Order Date'])\n",
            "<ipython-input-14-5069a9985530>:10: UserWarning: Parsing dates in DD/MM/YYYY format when dayfirst=False (the default) was specified. This may lead to inconsistently parsed dates! Specify a format to ensure consistent parsing.\n",
            "  superstore['Ship Date'] = pd.to_datetime(superstore['Ship Date'])\n"
          ]
        }
      ],
      "source": [
        "#Corrigiendo tipo de datos para las columnas\n",
        "\n",
        "#Cambiando 'Order ID', 'Customer ID', and 'Product ID' a int\n",
        "superstore['Order ID'] = superstore['Order ID'].astype(str)\n",
        "superstore['Customer ID'] = superstore['Customer ID'].astype(str)\n",
        "superstore['Product ID'] = superstore['Product ID'].astype(str)\n",
        "\n",
        "#Cambiando 'Order Date', 'Ship Date' a fecha\n",
        "superstore['Order Date'] = pd.to_datetime(superstore['Order Date'])\n",
        "superstore['Ship Date'] = pd.to_datetime(superstore['Ship Date'])\n",
        "\n",
        "\n",
        "#Cambiando el resto de columnas a categorias\n",
        "superstore['Ship Mode'] = superstore['Ship Mode'].astype('category')\n",
        "superstore['Order Priority'] = superstore['Order Priority'].astype('category')\n",
        "superstore['Segment'] = superstore['Segment'].astype('category')\n",
        "superstore['State'] = superstore['State'].astype('category')\n",
        "superstore['Country'] = superstore['Country'].astype('category')\n",
        "superstore['Market'] = superstore['Market'].astype('category')\n",
        "superstore['Region'] = superstore['Region'].astype('category')\n",
        "superstore['Category'] = superstore['Category'].astype('category')\n",
        "superstore['Sub-Category'] = superstore['Sub-Category'].astype('category')"
      ]
    },
    {
      "cell_type": "code",
      "execution_count": 15,
      "metadata": {
        "colab": {
          "base_uri": "https://localhost:8080/"
        },
        "id": "OTZssjjNofx7",
        "outputId": "8fd41a58-2d9f-4032-ff4b-41d06bdfc252"
      },
      "outputs": [
        {
          "name": "stdout",
          "output_type": "stream",
          "text": [
            "<class 'pandas.core.frame.DataFrame'>\n",
            "Int64Index: 51290 entries, 0 to 61549\n",
            "Data columns (total 25 columns):\n",
            " #   Column          Non-Null Count  Dtype         \n",
            "---  ------          --------------  -----         \n",
            " 0   Row ID          51290 non-null  int64         \n",
            " 1   Order ID        51290 non-null  object        \n",
            " 2   Order Date      51290 non-null  datetime64[ns]\n",
            " 3   Ship Date       51290 non-null  datetime64[ns]\n",
            " 4   Ship Mode       51290 non-null  category      \n",
            " 5   Customer ID     51290 non-null  object        \n",
            " 6   Customer Name   51290 non-null  object        \n",
            " 7   Segment         51290 non-null  category      \n",
            " 8   City            51290 non-null  object        \n",
            " 9   State           51290 non-null  category      \n",
            " 10  Country         51290 non-null  category      \n",
            " 11  Postal Code     51290 non-null  object        \n",
            " 12  Market          51290 non-null  category      \n",
            " 13  Region          51290 non-null  category      \n",
            " 14  Product ID      51290 non-null  object        \n",
            " 15  Category        51290 non-null  category      \n",
            " 16  Sub-Category    51290 non-null  category      \n",
            " 17  Product Name    51290 non-null  object        \n",
            " 18  Sales           51290 non-null  float64       \n",
            " 19  Quantity        51290 non-null  int64         \n",
            " 20  Discount        51290 non-null  float64       \n",
            " 21  Profit          51290 non-null  float64       \n",
            " 22  Shipping Cost   51290 non-null  float64       \n",
            " 23  Order Priority  51290 non-null  category      \n",
            " 24  Unnamed: 0      0 non-null      float64       \n",
            "dtypes: category(9), datetime64[ns](2), float64(5), int64(2), object(7)\n",
            "memory usage: 7.2+ MB\n"
          ]
        }
      ],
      "source": [
        "superstore.info()"
      ]
    },
    {
      "cell_type": "markdown",
      "metadata": {
        "id": "VLsfTaw4xw3r"
      },
      "source": [
        "# Creación de nueva base de datos en Google Drive"
      ]
    },
    {
      "cell_type": "code",
      "execution_count": 17,
      "metadata": {
        "id": "P_75I-OtecNZ"
      },
      "outputs": [],
      "source": [
        "superstore.to_csv('/content/drive/MyDrive/superstore/superstore_final.csv', index=False)"
      ]
    },
    {
      "cell_type": "markdown",
      "metadata": {
        "id": "T7O46GSZ2kou"
      },
      "source": [
        "# Explorando datos\n",
        "\n",
        "Conectar a la nueva base de datos"
      ]
    },
    {
      "cell_type": "code",
      "execution_count": 18,
      "metadata": {
        "id": "83HtD_K92p9-"
      },
      "outputs": [],
      "source": [
        "superstore_cleaned = pd.read_csv('/content/drive/MyDrive/superstore/superstore_final.csv')"
      ]
    },
    {
      "cell_type": "markdown",
      "metadata": {
        "id": "WTxHFNE82qMd"
      },
      "source": [
        "# Analizando Categorías, tendencias, medias y creando valor"
      ]
    },
    {
      "cell_type": "markdown",
      "metadata": {
        "id": "Ghzcciw6jzdC"
      },
      "source": [
        "Su función será crear un \"deep dive\" que explorara 2 a 4 preguntas de negocios que pueda hacer con los datos: ¿Cuál es el mejor día de la semana de ventas? etc. Como mínimo su análisis debe incluir:\n",
        "\n",
        "- Comparar dos variables con al menos una segmentación por categoría\n",
        "- Analizar gráficamente multiples variables numéricas\n",
        "- Plot charts, Gráficos de tendencia y Barra con su análisis de que significa\n",
        "- Utilizar las ideas anteriores como sea necesario para cada pregunta de negocio.\n",
        "\n"
      ]
    },
    {
      "cell_type": "markdown",
      "metadata": {
        "id": "DKLb1W6g_G6d"
      },
      "source": []
    },
    {
      "cell_type": "code",
      "execution_count": 19,
      "metadata": {
        "colab": {
          "base_uri": "https://localhost:8080/"
        },
        "id": "AebidCYZvRl5",
        "outputId": "67e60d1d-fdb5-4494-e766-ffdbfb6fdac7"
      },
      "outputs": [
        {
          "name": "stdout",
          "output_type": "stream",
          "text": [
            "<class 'pandas.core.frame.DataFrame'>\n",
            "RangeIndex: 51290 entries, 0 to 51289\n",
            "Data columns (total 25 columns):\n",
            " #   Column          Non-Null Count  Dtype  \n",
            "---  ------          --------------  -----  \n",
            " 0   Row ID          51290 non-null  int64  \n",
            " 1   Order ID        51290 non-null  object \n",
            " 2   Order Date      51290 non-null  object \n",
            " 3   Ship Date       51290 non-null  object \n",
            " 4   Ship Mode       51290 non-null  object \n",
            " 5   Customer ID     51290 non-null  object \n",
            " 6   Customer Name   51290 non-null  object \n",
            " 7   Segment         51290 non-null  object \n",
            " 8   City            51290 non-null  object \n",
            " 9   State           51290 non-null  object \n",
            " 10  Country         51290 non-null  object \n",
            " 11  Postal Code     51290 non-null  float64\n",
            " 12  Market          51290 non-null  object \n",
            " 13  Region          51290 non-null  object \n",
            " 14  Product ID      51290 non-null  object \n",
            " 15  Category        51290 non-null  object \n",
            " 16  Sub-Category    51290 non-null  object \n",
            " 17  Product Name    51290 non-null  object \n",
            " 18  Sales           51290 non-null  float64\n",
            " 19  Quantity        51290 non-null  int64  \n",
            " 20  Discount        51290 non-null  float64\n",
            " 21  Profit          51290 non-null  float64\n",
            " 22  Shipping Cost   51290 non-null  float64\n",
            " 23  Order Priority  51290 non-null  object \n",
            " 24  Unnamed: 0      0 non-null      float64\n",
            "dtypes: float64(6), int64(2), object(17)\n",
            "memory usage: 9.8+ MB\n"
          ]
        }
      ],
      "source": [
        "superstore_cleaned.info()"
      ]
    },
    {
      "cell_type": "code",
      "execution_count": 20,
      "metadata": {
        "id": "HZZ35f5V3ZdM"
      },
      "outputs": [],
      "source": [
        "#Cambiando 'Order ID', 'Customer ID', and 'Product ID' a int\n",
        "superstore_cleaned['Order ID'] = superstore_cleaned['Order ID'].astype(str)\n",
        "superstore_cleaned['Customer ID'] = superstore_cleaned['Customer ID'].astype(str)\n",
        "superstore_cleaned['Product ID'] = superstore_cleaned['Product ID'].astype(str)\n",
        "\n",
        "#Cambiando 'Order Date', 'Ship Date' a fecha\n",
        "superstore_cleaned['Order Date'] = pd.to_datetime(superstore_cleaned['Order Date'])\n",
        "superstore_cleaned['Ship Date'] = pd.to_datetime(superstore_cleaned['Ship Date'])\n",
        "\n",
        "\n",
        "#Cambiando el resto de columnas a categorias\n",
        "superstore_cleaned['Ship Mode'] = superstore_cleaned['Ship Mode'].astype('category')\n",
        "superstore_cleaned['Order Priority'] = superstore_cleaned['Order Priority'].astype('category')\n",
        "superstore_cleaned['Segment'] = superstore_cleaned['Segment'].astype('category')\n",
        "superstore_cleaned['State'] = superstore_cleaned['State'].astype('category')\n",
        "superstore_cleaned['Country'] = superstore_cleaned['Country'].astype('category')\n",
        "superstore_cleaned['Market'] = superstore_cleaned['Market'].astype('category')\n",
        "superstore_cleaned['Region'] = superstore_cleaned['Region'].astype('category')\n",
        "superstore_cleaned['Category'] = superstore_cleaned['Category'].astype('category')\n",
        "superstore_cleaned['Sub-Category'] = superstore_cleaned['Sub-Category'].astype('category')"
      ]
    },
    {
      "cell_type": "code",
      "execution_count": null,
      "metadata": {
        "id": "wu3K2yhbp-iB"
      },
      "outputs": [],
      "source": [
        "#Analisis\n",
        "#Pregunta - Como se comparan en ganancias los diferentes segmentos?\n",
        "\n",
        "#Separar por segmentos y comparar su media\n",
        "segmentos_df = superstore_cleaned.groupby('Segment')['Profit'].mean()"
      ]
    },
    {
      "cell_type": "code",
      "execution_count": null,
      "metadata": {
        "colab": {
          "base_uri": "https://localhost:8080/",
          "height": 472
        },
        "id": "_50rvRf9v502",
        "outputId": "14412d3e-d8f0-42a6-bbaf-59a2f11c5ae2"
      },
      "outputs": [
        {
          "data": {
            "image/png": "[encoded data removed]",
            "text/plain": [
              "<Figure size 640x480 with 1 Axes>"
            ]
          },
          "metadata": {},
          "output_type": "display_data"
        }
      ],
      "source": [
        "#visualizar la comparacion\n",
        "plt.bar(segmentos_df.index, segmentos_df.values)\n",
        "\n",
        "#Agregar etiquetas y titulo\n",
        "plt.xlabel('Segmentos de cliente')\n",
        "plt.ylabel('Ganancia media')\n",
        "plt.title('Gananas por segmento de cliente')\n",
        "\n",
        "plt.show()"
      ]
    },
    {
      "cell_type": "code",
      "execution_count": null,
      "metadata": {
        "colab": {
          "base_uri": "https://localhost:8080/",
          "height": 472
        },
        "id": "cdkikApGx4qg",
        "outputId": "092122a9-be53-4158-ee27-6d023e74bac6"
      },
      "outputs": [
        {
          "data": {
            "image/png": "[encoded data removed]",
            "text/plain": [
              "<Figure size 640x480 with 1 Axes>"
            ]
          },
          "metadata": {},
          "output_type": "display_data"
        }
      ],
      "source": [
        "#Comparando ventas con Ganancias\n",
        "plt.scatter(superstore_cleaned['Sales'],\n",
        "            superstore_cleaned['Profit'])\n",
        "\n",
        "\n",
        "#Agregando etiquetas\n",
        "plt.xlabel('Ventas')\n",
        "plt.ylabel('Ganancias')\n",
        "plt.title('Ventas vs. Ganancias')\n",
        "\n",
        "plt.show()"
      ]
    },
    {
      "cell_type": "code",
      "execution_count": 22,
      "metadata": {
        "colab": {
          "base_uri": "https://localhost:8080/",
          "height": 472
        },
        "id": "_HvkotnO1cbM",
        "outputId": "888aea44-7587-461e-8dc8-fec65253cc94"
      },
      "outputs": [
        {
          "data": {
            "image/png": "[encoded data removed]",
            "text/plain": [
              "<Figure size 640x480 with 1 Axes>"
            ]
          },
          "metadata": {},
          "output_type": "display_data"
        }
      ],
      "source": [
        "#Dividiendo ventas y ganancias por mes\n",
        "ventas_por_mes = superstore_cleaned['Sales'].groupby(superstore_cleaned['Order Date'].dt.month).mean()\n",
        "ganancias_por_mes = superstore_cleaned['Profit'].groupby(superstore_cleaned['Order Date'].dt.month).mean()\n",
        "\n",
        "ventas_ganancias_por_mes = pd.DataFrame({'Mes': ventas_por_mes.index, 'Ventas': ventas_por_mes.values, 'Ganancias': ganancias_por_mes.values})\n",
        "\n",
        "sns.lineplot(x='Mes', y='Ventas', data=ventas_ganancias_por_mes, label='Ventas')\n",
        "sns.lineplot(x='Mes', y='Ganancias', data=ventas_ganancias_por_mes, label='Ganancias')\n",
        "\n",
        "plt.xlabel('Mes')\n",
        "plt.ylabel('Valor')\n",
        "plt.title('Ventas y Ganancias por Mes')\n",
        "\n",
        "plt.legend()\n",
        "\n",
        "plt.show()"
      ]
    },
    {
      "cell_type": "code",
      "execution_count": null,
      "metadata": {
        "colab": {
          "base_uri": "https://localhost:8080/",
          "height": 472
        },
        "id": "EHM-DKE97ivo",
        "outputId": "6e2c1880-97f5-43dc-f986-1737ff6cecf2"
      },
      "outputs": [
        {
          "data": {
            "image/png": "[encoded data removed]",
            "text/plain": [
              "<Figure size 640x480 with 1 Axes>"
            ]
          },
          "metadata": {},
          "output_type": "display_data"
        }
      ],
      "source": [
        "#Media de ganancias por categorias\n",
        "categorias = superstore_cleaned.groupby('Category')['Profit'].mean()\n",
        "\n",
        "plt.bar(categorias.index, categorias.values)\n",
        "\n",
        "#Agregar etiquetas y titulo\n",
        "plt.xlabel('Categorias')\n",
        "plt.ylabel('Ganancia media')\n",
        "plt.title('Ganancias por Categoria')\n",
        "\n",
        "plt.show()"
      ]
    },
    {
      "cell_type": "markdown",
      "metadata": {
        "id": "7RTDtHLcp7Et"
      },
      "source": [
        "# Conclusiones"
      ]
    },
    {
      "cell_type": "code",
      "execution_count": null,
      "metadata": {
        "id": "cXQgt-N_8qhz"
      },
      "outputs": [],
      "source": [
        "# Hay una relacion positiva entre las ventas y las granancias\n",
        "# El segmento que mas rentable es el Home Office\n",
        "# La categoria que mas vende es la de tecnologia\n",
        "# Agosto es el mes en el que mas se vendio en cuanto a ventas medias"
      ]
    }
  ],
  "metadata": {
    "colab": {
      "provenance": []
    },
    "kernelspec": {
      "display_name": "Python 3",
      "name": "python3"
    },
    "language_info": {
      "name": "python"
    }
  },
  "nbformat": 4,
  "nbformat_minor": 0
}
